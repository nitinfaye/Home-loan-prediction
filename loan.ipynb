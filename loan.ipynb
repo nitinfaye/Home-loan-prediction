{
  "nbformat": 4,
  "nbformat_minor": 0,
  "metadata": {
    "colab": {
      "provenance": [],
      "authorship_tag": "ABX9TyOtOMUHZ7ay1IMAfT8Eptjv",
      "include_colab_link": true
    },
    "kernelspec": {
      "name": "python3",
      "display_name": "Python 3"
    },
    "language_info": {
      "name": "python"
    }
  },
  "cells": [
    {
      "cell_type": "markdown",
      "metadata": {
        "id": "view-in-github",
        "colab_type": "text"
      },
      "source": [
        "<a href=\"https://colab.research.google.com/github/nitinfaye/Home-loan-prediction/blob/main/loan.ipynb\" target=\"_parent\"><img src=\"https://colab.research.google.com/assets/colab-badge.svg\" alt=\"Open In Colab\"/></a>"
      ]
    },
    {
      "cell_type": "code",
      "execution_count": 1,
      "metadata": {
        "id": "1Mx8eMciFy7n"
      },
      "outputs": [],
      "source": [
        "def cal_loan(acct_num,sal,acct_bal,loan_type,loan_expt,emi_expt):\n",
        "    eligible_loan_amt= 0\n",
        "    bank_emi_expet=0\n",
        "    f=0\n",
        "    if(acct_num>999 and acct_num<2000):\n",
        "        if acct_bal>99999:\n",
        "            if loan_type==\"CAR\"and sal>25000:\n",
        "                if emi_expt<=36 and loan_expt<=500000:\n",
        "                    eligible_loan_amt=500000\n",
        "                    bank_emi_expet=36\n",
        "                    f=1\n",
        "                else:\n",
        "                    print(\"The customer is not eligible for the loan\")\n",
        "            elif loan_type==\"HOUSE\"and sal>50000:\n",
        "                if emi_expt<=60 and loan_expt<=600000:\n",
        "                    eligible_loan_amt=600000\n",
        "                    bank_emi_expet=60\n",
        "                    f=1\n",
        "                else:\n",
        "                    print(\"The customer is not eligible to the loan\")\n",
        "            elif loan_type==\"BUSINESS\" and sal>75000:\n",
        "                if emi_expt<=84 and loan_expt<=7500000:\n",
        "                    eligible_loan_amt=7500000\n",
        "                    bank_emi_expet=84\n",
        "                    f=1\n",
        "                else:\n",
        "                    print(\"The customer is not eligible to the loan\")\n",
        "            else:\n",
        "                print(\"invalid loan type or salary\")\n",
        "        else:\n",
        "            print(\"Insufficient account balance\")\n",
        "    else:\n",
        "        print(\"Invalid account number\")\n",
        "    if f==1:\n",
        "        print(\"Account number:\",acct_num)\n",
        "        print(\"The custmoer can avail the amount of Rs:\",eligible_loan_amt)\n",
        "        print(\"Eligible EMIs:\",bank_emi_expet)\n",
        "        print(\"Requsted loan amount:\",bank_emi_expet)"
      ]
    },
    {
      "cell_type": "code",
      "source": [
        "cal_loan(1001,40000,250000,\"CAR\",300000,30)"
      ],
      "metadata": {
        "colab": {
          "base_uri": "https://localhost:8080/"
        },
        "id": "jolzvnHqGCBi",
        "outputId": "3eec7c5c-147c-4401-9a06-8d50bd931a6e"
      },
      "execution_count": 2,
      "outputs": [
        {
          "output_type": "stream",
          "name": "stdout",
          "text": [
            "Account number: 1001\n",
            "The custmoer can avail the amount of Rs: 500000\n",
            "Eligible EMIs: 36\n",
            "Requsted loan amount: 36\n"
          ]
        }
      ]
    }
  ]
}